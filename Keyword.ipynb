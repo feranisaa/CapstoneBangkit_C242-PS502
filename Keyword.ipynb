{
  "cells": [
    {
      "cell_type": "markdown",
      "metadata": {
        "id": "view-in-github",
        "colab_type": "text"
      },
      "source": [
        "<a href=\"https://colab.research.google.com/github/feranisaa/CapstoneBangkit_C242-PS502/blob/main/Keyword.ipynb\" target=\"_parent\"><img src=\"https://colab.research.google.com/assets/colab-badge.svg\" alt=\"Open In Colab\"/></a>"
      ]
    },
    {
      "cell_type": "code",
      "execution_count": null,
      "metadata": {
        "id": "MyBpvtpLreqy"
      },
      "outputs": [],
      "source": [
        "from google.colab import drive\n",
        "import pandas as pd\n",
        "import nltk\n",
        "from nltk.corpus import stopwords\n",
        "from sklearn.feature_extraction.text import TfidfVectorizer\n",
        "from sklearn.metrics.pairwise import cosine_similarity"
      ]
    },
    {
      "cell_type": "code",
      "execution_count": null,
      "metadata": {
        "colab": {
          "base_uri": "https://localhost:8080/"
        },
        "id": "VA7Qo1QMnp4O",
        "outputId": "d54c598e-428c-4298-e81c-fffff63ec92f"
      },
      "outputs": [
        {
          "output_type": "stream",
          "name": "stdout",
          "text": [
            "Mounted at /content/drive\n"
          ]
        }
      ],
      "source": [
        "from google.colab import drive\n",
        "\n",
        "# Mount Google Drive\n",
        "drive.mount('/content/drive')"
      ]
    },
    {
      "cell_type": "markdown",
      "metadata": {
        "id": "SRv967Uin1Lw"
      },
      "source": [
        "##Ini Kalau mau pake upload file"
      ]
    },
    {
      "cell_type": "code",
      "execution_count": null,
      "metadata": {
        "id": "LRRJEOxWk9U4"
      },
      "outputs": [],
      "source": [
        "# from google.colab import files\n",
        "# import pandas as pd\n",
        "\n",
        "# # Upload file CSV\n",
        "# uploaded = files.upload()\n",
        "\n",
        "# # Membaca file CSV\n",
        "# df = pd.read_csv(list(uploaded.keys())[0])\n",
        "\n",
        "# # Menampilkan beberapa baris untuk memastikan data sudah benar\n",
        "# print(df.head())\n"
      ]
    },
    {
      "cell_type": "markdown",
      "metadata": {
        "id": "rdhtZYxjn9VT"
      },
      "source": [
        "##Ini kalau mau dari gdrive"
      ]
    },
    {
      "cell_type": "code",
      "execution_count": null,
      "metadata": {
        "colab": {
          "base_uri": "https://localhost:8080/"
        },
        "id": "zh2d5sKFoH2C",
        "outputId": "329b1232-136c-4d4c-e807-f5c6dcad956c"
      },
      "outputs": [
        {
          "output_type": "stream",
          "name": "stdout",
          "text": [
            "keyword2.ipynb\tkeyword.csv  keyword.gsheet  Keyword.ipynb\n"
          ]
        }
      ],
      "source": [
        "!ls /content/drive/Shareddrives/Capstone/Model_Keyword_Clustering"
      ]
    },
    {
      "cell_type": "code",
      "execution_count": null,
      "metadata": {
        "colab": {
          "base_uri": "https://localhost:8080/"
        },
        "id": "akLoZ71UoA66",
        "outputId": "5cb77935-8df6-4e4c-9e61-614d4747c238"
      },
      "outputs": [
        {
          "output_type": "stream",
          "name": "stdout",
          "text": [
            "                           Nama Kategori  \\\n",
            "0                   Galabo Solo     Food   \n",
            "1              Serabi Notosuman     Food   \n",
            "2  Nasi Liwet Yu Sani Gemblegan     Food   \n",
            "3           Tengkleng Pak Manto     Food   \n",
            "4             Selat Solo Vien's     Food   \n",
            "\n",
            "                                           Deskripsi  \n",
            "0  Galabo Solo, makanan khas solo, restoran, temp...  \n",
            "1  Serabi Notosuman, oleh-oleh, makanan khas solo...  \n",
            "2  Nasi Liwet Yu Sani Gemblegan, makanan khas sol...  \n",
            "3  Tengkleng Pak Manto, makanan khas solo, kambin...  \n",
            "4      Selat Solo Vien's, makanan khas solo, kuliner  \n"
          ]
        }
      ],
      "source": [
        "import pandas as pd\n",
        "\n",
        "# Lokasi file di Google Drive\n",
        "file_path = '/content/drive/Shareddrives/Capstone/Model_Keyword_Clustering/keyword.csv'\n",
        "\n",
        "# Membaca file CSV\n",
        "df = pd.read_csv(file_path)\n",
        "\n",
        "# Menampilkan beberapa baris untuk memastikan data sudah benar\n",
        "print(df.head())\n"
      ]
    },
    {
      "cell_type": "code",
      "execution_count": null,
      "metadata": {
        "colab": {
          "base_uri": "https://localhost:8080/"
        },
        "id": "sxAQzwK4lRWn",
        "outputId": "d48e66fc-00bf-48e9-aca2-6f827e032dd6"
      },
      "outputs": [
        {
          "output_type": "stream",
          "name": "stdout",
          "text": [
            "Requirement already satisfied: scikit-learn in /usr/local/lib/python3.10/dist-packages (1.5.2)\n",
            "Requirement already satisfied: numpy>=1.19.5 in /usr/local/lib/python3.10/dist-packages (from scikit-learn) (1.26.4)\n",
            "Requirement already satisfied: scipy>=1.6.0 in /usr/local/lib/python3.10/dist-packages (from scikit-learn) (1.13.1)\n",
            "Requirement already satisfied: joblib>=1.2.0 in /usr/local/lib/python3.10/dist-packages (from scikit-learn) (1.4.2)\n",
            "Requirement already satisfied: threadpoolctl>=3.1.0 in /usr/local/lib/python3.10/dist-packages (from scikit-learn) (3.5.0)\n"
          ]
        }
      ],
      "source": [
        "!pip install scikit-learn"
      ]
    },
    {
      "cell_type": "code",
      "execution_count": null,
      "metadata": {
        "colab": {
          "base_uri": "https://localhost:8080/"
        },
        "id": "vOEIcxSPmH7G",
        "outputId": "8f2197af-6c64-41f4-a2a1-e164cd7f42fb"
      },
      "outputs": [
        {
          "output_type": "stream",
          "name": "stdout",
          "text": [
            "Requirement already satisfied: nltk in /usr/local/lib/python3.10/dist-packages (3.9.1)\n",
            "Requirement already satisfied: click in /usr/local/lib/python3.10/dist-packages (from nltk) (8.1.7)\n",
            "Requirement already satisfied: joblib in /usr/local/lib/python3.10/dist-packages (from nltk) (1.4.2)\n",
            "Requirement already satisfied: regex>=2021.8.3 in /usr/local/lib/python3.10/dist-packages (from nltk) (2024.9.11)\n",
            "Requirement already satisfied: tqdm in /usr/local/lib/python3.10/dist-packages (from nltk) (4.66.6)\n"
          ]
        }
      ],
      "source": [
        "!pip install nltk\n"
      ]
    },
    {
      "cell_type": "code",
      "execution_count": null,
      "metadata": {
        "colab": {
          "base_uri": "https://localhost:8080/"
        },
        "id": "RSoFe2UxmJ7u",
        "outputId": "2c5feaac-470d-414c-ba29-6cc3c74a599c"
      },
      "outputs": [
        {
          "output_type": "stream",
          "name": "stderr",
          "text": [
            "[nltk_data] Downloading package stopwords to /root/nltk_data...\n",
            "[nltk_data]   Package stopwords is already up-to-date!\n"
          ]
        }
      ],
      "source": [
        "import nltk\n",
        "nltk.download('stopwords')\n",
        "\n",
        "from nltk.corpus import stopwords\n",
        "\n",
        "# Ambil stopwords bahasa Indonesia\n",
        "stop_words = stopwords.words('indonesian')\n"
      ]
    },
    {
      "cell_type": "code",
      "execution_count": null,
      "metadata": {
        "colab": {
          "base_uri": "https://localhost:8080/"
        },
        "id": "TX1nL5qAltNI",
        "outputId": "96422bd4-4120-4f82-dc86-32ff478dc3ae"
      },
      "outputs": [
        {
          "metadata": {
            "tags": null
          },
          "name": "stderr",
          "output_type": "stream",
          "text": [
            "/usr/local/lib/python3.10/dist-packages/sklearn/feature_extraction/text.py:406: UserWarning: Your stop_words may be inconsistent with your preprocessing. Tokenizing the stop words generated tokens ['baiknya', 'berkali', 'kali', 'kurangnya', 'mata', 'olah', 'sekurang', 'setidak', 'tama', 'tidaknya'] not in stop_words.\n",
            "  warnings.warn(\n"
          ]
        },
        {
          "output_type": "stream",
          "name": "stdout",
          "text": [
            "\n",
            "Hasil Pencarian:\n",
            "- Kebun Strawberry Karanganyar\n",
            "- Senatah Adventure\n",
            "\n",
            "Masukkan kata kunci (atau ketik 'exit' untuk keluar): exit\n",
            "Pencarian selesai.\n"
          ]
        }
      ],
      "source": [
        "from sklearn.feature_extraction.text import TfidfVectorizer\n",
        "from sklearn.metrics.pairwise import cosine_similarity\n",
        "import pandas as pd\n",
        "\n",
        "# Membaca file CSV\n",
        "# df = pd.read_csv('lokasi_wisata.csv')\n",
        "# df = pd.read_csv(list(uploaded.keys())[0])\n",
        "# df = pd.read_csv(file_path)\n",
        "\n",
        "# Menggabungkan kategori dan deskripsi\n",
        "df['Gabungan'] = df['Kategori'] + \" \" + df['Deskripsi']\n",
        "\n",
        "# Membuat model TF-IDF dengan stopwords Indonesia\n",
        "vectorizer = TfidfVectorizer(stop_words=stop_words)\n",
        "tfidf_matrix = vectorizer.fit_transform(df['Gabungan'])  # Fit data gabungan\n",
        "\n",
        "# Loop untuk pencarian\n",
        "while True:\n",
        "    # Input user\n",
        "    query = input(\"Masukkan kata kunci (atau ketik 'exit' untuk keluar): \")\n",
        "    if query.lower() == 'exit':\n",
        "        print(\"Pencarian selesai.\")\n",
        "        break\n",
        "\n",
        "    # Transform input user\n",
        "    query_vec = vectorizer.transform([query])\n",
        "\n",
        "    # Menghitung kesamaan kosinus\n",
        "    similarity = cosine_similarity(query_vec, tfidf_matrix)\n",
        "\n",
        "    # Menambahkan skor kesamaan ke dataframe\n",
        "    df['Similarity'] = similarity[0]\n",
        "\n",
        "    # Mengurutkan hasil berdasarkan kesamaan\n",
        "    results = df[df['Similarity'] > 0].sort_values(by='Similarity', ascending=False)\n",
        "\n",
        "    if results.empty:\n",
        "        print(\"Tidak ada hasil yang sesuai dengan kata kunci.\")\n",
        "    else:\n",
        "        # Menampilkan hasil nama lokasi saja\n",
        "        print(\"\\nHasil Pencarian:\")\n",
        "        for nama in results['Nama']:\n",
        "            print(f\"- {nama}\")\n",
        "        print()\n"
      ]
    },
    {
      "cell_type": "code",
      "execution_count": null,
      "metadata": {
        "id": "qPA-jWlzlxeX",
        "colab": {
          "base_uri": "https://localhost:8080/"
        },
        "outputId": "68aa1d91-2e03-4597-99f9-0ec35977dbb7"
      },
      "outputs": [
        {
          "output_type": "stream",
          "name": "stdout",
          "text": [
            "Collecting fuzzywuzzy\n",
            "  Downloading fuzzywuzzy-0.18.0-py2.py3-none-any.whl.metadata (4.9 kB)\n",
            "Downloading fuzzywuzzy-0.18.0-py2.py3-none-any.whl (18 kB)\n",
            "Installing collected packages: fuzzywuzzy\n",
            "Successfully installed fuzzywuzzy-0.18.0\n"
          ]
        }
      ],
      "source": [
        "# !pip install fuzzywuzzy"
      ]
    },
    {
      "cell_type": "code",
      "source": [
        "# from fuzzywuzzy import process\n",
        "\n",
        "# # Loop untuk pencarian\n",
        "# while True:\n",
        "#     # Input user\n",
        "#     query = input(\"Masukkan kata kunci (atau ketik 'exit' untuk keluar): \")\n",
        "#     if query.lower() == 'exit':\n",
        "#         print(\"Pencarian selesai.\")\n",
        "#         break\n",
        "\n",
        "#     # Reset kolom 'Similarity' jika ada\n",
        "#     if 'Similarity' in df.columns:\n",
        "#         df.drop(columns=['Similarity'], inplace=True)\n",
        "\n",
        "#     # Fuzzy matching untuk pencarian yang lebih mirip\n",
        "#     # Daftar nama lokasi yang tersedia\n",
        "#     lokasi_list = df['Nama'].tolist()\n",
        "\n",
        "#     # Mencocokkan kata kunci dengan lokasi yang ada\n",
        "#     matches = process.extract(query, lokasi_list, limit=5)  # Mengambil 5 hasil teratas\n",
        "\n",
        "#     # Menampilkan hasil fuzzy matching\n",
        "#     print(\"\\nHasil Pencarian dengan kemungkinan kesalahan ketik:\")\n",
        "#     for match in matches:\n",
        "#         print(f\"- {match[0]} (Skor kesamaan: {match[1]})\")\n",
        "\n",
        "#     # Jika tidak ada hasil yang mirip, lanjutkan pencarian dengan TF-IDF\n",
        "#     if not matches or matches[0][1] < 70:  # Jika skor kesamaan kurang dari 70\n",
        "#         query_vec = vectorizer.transform([query])\n",
        "\n",
        "#         # Menghitung kesamaan kosinus\n",
        "#         similarity = cosine_similarity(query_vec, tfidf_matrix)\n",
        "\n",
        "#         # Menambahkan skor kesamaan ke dataframe\n",
        "#         df['Similarity'] = similarity[0]\n",
        "\n",
        "#         # Mengurutkan hasil berdasarkan kesamaan\n",
        "#         results = df[df['Similarity'] > 0].sort_values(by='Similarity', ascending=False)\n",
        "\n",
        "#         if results.empty:\n",
        "#             print(\"Tidak ada hasil yang sesuai dengan kata kunci.\")\n",
        "#         else:\n",
        "#             # Menampilkan hasil nama lokasi saja\n",
        "#             print(\"\\nHasil Pencarian TF-IDF:\")\n",
        "#             for nama in results['Nama']:\n",
        "#                 print(f\"- {nama}\")\n",
        "#     print()\n"
      ],
      "metadata": {
        "colab": {
          "base_uri": "https://localhost:8080/"
        },
        "id": "mZuMUA4cbdg9",
        "outputId": "abb1c5c2-ef3b-456a-8296-1869bc3c7b7c"
      },
      "execution_count": null,
      "outputs": [
        {
          "output_type": "stream",
          "name": "stderr",
          "text": [
            "/usr/local/lib/python3.10/dist-packages/fuzzywuzzy/fuzz.py:11: UserWarning: Using slow pure-python SequenceMatcher. Install python-Levenshtein to remove this warning\n",
            "  warnings.warn('Using slow pure-python SequenceMatcher. Install python-Levenshtein to remove this warning')\n"
          ]
        },
        {
          "output_type": "stream",
          "name": "stdout",
          "text": [
            "Masukkan kata kunci (atau ketik 'exit' untuk keluar): natur\n",
            "\n",
            "Hasil Pencarian dengan kemungkinan kesalahan ketik:\n",
            "- Senatah Adventure (Skor kesamaan: 72)\n",
            "- Royal Water Adventure (Skor kesamaan: 72)\n",
            "- Dapur Solo (Skor kesamaan: 54)\n",
            "- Monumen 45 Banjarsari (Skor kesamaan: 54)\n",
            "- Benteng Vastenburg (Skor kesamaan: 54)\n",
            "\n",
            "Masukkan kata kunci (atau ketik 'exit' untuk keluar): nature\n",
            "\n",
            "Hasil Pencarian dengan kemungkinan kesalahan ketik:\n",
            "- Royal Water Adventure (Skor kesamaan: 82)\n",
            "- Senatah Adventure (Skor kesamaan: 75)\n",
            "- Lokananta (Skor kesamaan: 50)\n",
            "- Waduk Gajah Mungkur (Skor kesamaan: 50)\n",
            "- Serabi Notosuman (Skor kesamaan: 45)\n",
            "\n",
            "Masukkan kata kunci (atau ketik 'exit' untuk keluar): alam\n",
            "\n",
            "Hasil Pencarian dengan kemungkinan kesalahan ketik:\n",
            "- Galabo Solo (Skor kesamaan: 68)\n",
            "- Rasamadu Heritage (Skor kesamaan: 68)\n",
            "- Alas Bromo (Skor kesamaan: 68)\n",
            "- Paralayang Kemuning (Skor kesamaan: 68)\n",
            "- Teradisional (Skor kesamaan: 60)\n",
            "\n",
            "Hasil Pencarian TF-IDF:\n",
            "- Telaga Madirda\n",
            "- Bendungan Colo\n",
            "- Agrowisata Sondokoro Karanganyar\n",
            "- Taman Hutan Rakyat\n",
            "- Grojogan Sewu Tawangmangu\n",
            "- Waduk Gajah Mungkur\n",
            "- Air Terjun Jumog\n",
            "- Bumi Perkemahan Sekipan\n",
            "- Kebun Strawberry Karanganyar\n",
            "- Lawu Park ATV Riding\n",
            "- Lawu Park High Rope\n",
            "- Telaga Biru Sukoharjo\n",
            "- Paralayang Kemuning\n",
            "- Lawu Park Jeep Wisata\n",
            "- Lawu Park Flying Fox\n",
            "- Lawu Offroad Community\n",
            "- Lawu Park Horse Riding\n",
            "- Lawu Park Trail Motorcycle\n",
            "- Kali Pring Kuning\n",
            "- Randubang\n",
            "- New Rivermoon\n",
            "- Kali Pucung\n",
            "- Senatah Adventure\n",
            "- Lawu Park Rabbit Park\n",
            "- Pantai Karang Payung\n",
            "- Kemuning Sky Hills\n",
            "- Cepogo Cheese Park\n",
            "\n",
            "Masukkan kata kunci (atau ketik 'exit' untuk keluar): exit\n",
            "Pencarian selesai.\n"
          ]
        }
      ]
    },
    {
      "cell_type": "code",
      "source": [],
      "metadata": {
        "id": "cXE0L4fcbfB_"
      },
      "execution_count": null,
      "outputs": []
    }
  ],
  "metadata": {
    "colab": {
      "provenance": [],
      "authorship_tag": "ABX9TyM6mGAEWQ6jz3/hcuDpgdiY",
      "include_colab_link": true
    },
    "kernelspec": {
      "display_name": "Python 3",
      "name": "python3"
    },
    "language_info": {
      "name": "python"
    }
  },
  "nbformat": 4,
  "nbformat_minor": 0
}